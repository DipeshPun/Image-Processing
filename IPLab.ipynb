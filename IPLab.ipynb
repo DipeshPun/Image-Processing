{
  "nbformat": 4,
  "nbformat_minor": 0,
  "metadata": {
    "colab": {
      "provenance": [],
      "authorship_tag": "ABX9TyM2+FOF9/xF2hNsDX0lKE0B",
      "include_colab_link": true
    },
    "kernelspec": {
      "name": "python3",
      "display_name": "Python 3"
    },
    "language_info": {
      "name": "python"
    }
  },
  "cells": [
    {
      "cell_type": "markdown",
      "metadata": {
        "id": "view-in-github",
        "colab_type": "text"
      },
      "source": [
        "<a href=\"https://colab.research.google.com/github/DipeshPun/Image-Processing/blob/main/IPLab.ipynb\" target=\"_parent\"><img src=\"https://colab.research.google.com/assets/colab-badge.svg\" alt=\"Open In Colab\"/></a>"
      ]
    },
    {
      "cell_type": "code",
      "execution_count": null,
      "metadata": {
        "colab": {
          "base_uri": "https://localhost:8080/"
        },
        "id": "7O8mkRHLJHRF",
        "outputId": "98b26f3c-678f-49d2-a829-d6b763e65da1"
      },
      "outputs": [
        {
          "output_type": "execute_result",
          "data": {
            "text/plain": [
              "array([1, 2, 3])"
            ]
          },
          "metadata": {},
          "execution_count": 1
        }
      ],
      "source": [
        "import numpy as np\n",
        "a=np.array([1,2,3])\n",
        "a.ndim\n",
        "a"
      ]
    },
    {
      "cell_type": "code",
      "source": [
        "x=a.reshape(1,3)\n",
        "x"
      ],
      "metadata": {
        "colab": {
          "base_uri": "https://localhost:8080/"
        },
        "id": "JbefeepZJPZj",
        "outputId": "876c0972-6c38-4c48-f60b-425ddf1412d3"
      },
      "execution_count": null,
      "outputs": [
        {
          "output_type": "execute_result",
          "data": {
            "text/plain": [
              "array([[1, 2, 3]])"
            ]
          },
          "metadata": {},
          "execution_count": 4
        }
      ]
    },
    {
      "cell_type": "code",
      "source": [
        "import numpy as np\n",
        "a = np.array([[1,2,3,4,5,6,7],[8,9,10,11,12,13,14]])\n",
        "a"
      ],
      "metadata": {
        "colab": {
          "base_uri": "https://localhost:8080/"
        },
        "id": "fGIT3z_6LUG5",
        "outputId": "101f4101-d5b4-4052-f1fc-fb4783d49d2f"
      },
      "execution_count": null,
      "outputs": [
        {
          "output_type": "execute_result",
          "data": {
            "text/plain": [
              "array([[ 1,  2,  3,  4,  5,  6,  7],\n",
              "       [ 8,  9, 10, 11, 12, 13, 14]])"
            ]
          },
          "metadata": {},
          "execution_count": 5
        }
      ]
    },
    {
      "cell_type": "code",
      "source": [
        "a[1,5]"
      ],
      "metadata": {
        "colab": {
          "base_uri": "https://localhost:8080/"
        },
        "id": "aypP4j-0LmRm",
        "outputId": "20209da3-8121-48ee-d56a-a74575b0fbaa"
      },
      "execution_count": null,
      "outputs": [
        {
          "output_type": "execute_result",
          "data": {
            "text/plain": [
              "13"
            ]
          },
          "metadata": {},
          "execution_count": 6
        }
      ]
    },
    {
      "cell_type": "code",
      "source": [
        "a[0,:]"
      ],
      "metadata": {
        "colab": {
          "base_uri": "https://localhost:8080/"
        },
        "id": "rgDZAUt4Lv3W",
        "outputId": "9ce9aecb-58eb-4c1b-db18-ed401a523fe5"
      },
      "execution_count": null,
      "outputs": [
        {
          "output_type": "execute_result",
          "data": {
            "text/plain": [
              "array([1, 2, 3, 4, 5, 6, 7])"
            ]
          },
          "metadata": {},
          "execution_count": 8
        }
      ]
    },
    {
      "cell_type": "code",
      "source": [
        "a[:,0]"
      ],
      "metadata": {
        "colab": {
          "base_uri": "https://localhost:8080/"
        },
        "id": "ZzfpJyusL_iT",
        "outputId": "6a0e57b0-1601-4400-b512-42915510cd2f"
      },
      "execution_count": null,
      "outputs": [
        {
          "output_type": "execute_result",
          "data": {
            "text/plain": [
              "array([1, 8])"
            ]
          },
          "metadata": {},
          "execution_count": 9
        }
      ]
    },
    {
      "cell_type": "code",
      "source": [
        "a[0,1:-1:2]"
      ],
      "metadata": {
        "colab": {
          "base_uri": "https://localhost:8080/"
        },
        "id": "LNe7oJYvMGEO",
        "outputId": "47dbbc0e-af0b-4a5a-c723-09f6f6aa6203"
      },
      "execution_count": null,
      "outputs": [
        {
          "output_type": "execute_result",
          "data": {
            "text/plain": [
              "array([2, 4, 6])"
            ]
          },
          "metadata": {},
          "execution_count": 11
        }
      ]
    },
    {
      "cell_type": "code",
      "source": [
        "a[:,2]"
      ],
      "metadata": {
        "colab": {
          "base_uri": "https://localhost:8080/"
        },
        "id": "s4lfmBhlMcf0",
        "outputId": "3892fe3a-46d3-4420-e738-f574fcef655a"
      },
      "execution_count": null,
      "outputs": [
        {
          "output_type": "execute_result",
          "data": {
            "text/plain": [
              "array([ 3, 10])"
            ]
          },
          "metadata": {},
          "execution_count": 28
        }
      ]
    },
    {
      "cell_type": "code",
      "source": [
        "a[1,5]=20\n",
        "a[:,2]=[1,2]\n",
        "a"
      ],
      "metadata": {
        "colab": {
          "base_uri": "https://localhost:8080/"
        },
        "id": "WzMxADEtNby8",
        "outputId": "d1d8c9ea-224b-43ac-dec2-9e5d9688506a"
      },
      "execution_count": null,
      "outputs": [
        {
          "output_type": "execute_result",
          "data": {
            "text/plain": [
              "array([[ 1,  2,  1,  4,  5,  6,  7],\n",
              "       [ 8,  9,  2, 11, 12, 20, 14]])"
            ]
          },
          "metadata": {},
          "execution_count": 30
        }
      ]
    },
    {
      "cell_type": "code",
      "source": [
        "a.shape"
      ],
      "metadata": {
        "colab": {
          "base_uri": "https://localhost:8080/"
        },
        "id": "wdv5NImmOazB",
        "outputId": "c848c5bb-2505-4216-df75-a106e3eb1752"
      },
      "execution_count": null,
      "outputs": [
        {
          "output_type": "execute_result",
          "data": {
            "text/plain": [
              "(2, 7)"
            ]
          },
          "metadata": {},
          "execution_count": 31
        }
      ]
    },
    {
      "cell_type": "code",
      "source": [
        "c = np.array([[[1,2,3],[4,5,6],[7,8,9]]])\n",
        "c"
      ],
      "metadata": {
        "colab": {
          "base_uri": "https://localhost:8080/"
        },
        "id": "lszVuxidOirF",
        "outputId": "63947632-d1ae-43fd-baae-d5cd7dcaf87d"
      },
      "execution_count": null,
      "outputs": [
        {
          "output_type": "execute_result",
          "data": {
            "text/plain": [
              "array([[[1, 2, 3],\n",
              "        [4, 5, 6],\n",
              "        [7, 8, 9]]])"
            ]
          },
          "metadata": {},
          "execution_count": 37
        }
      ]
    },
    {
      "cell_type": "code",
      "source": [
        "c.shape"
      ],
      "metadata": {
        "colab": {
          "base_uri": "https://localhost:8080/"
        },
        "id": "rKGzOCMbOq6H",
        "outputId": "f2a0c3ca-0eec-4d67-ed0d-0f60b2a208b5"
      },
      "execution_count": null,
      "outputs": [
        {
          "output_type": "execute_result",
          "data": {
            "text/plain": [
              "(1, 3, 3)"
            ]
          },
          "metadata": {},
          "execution_count": 36
        }
      ]
    },
    {
      "cell_type": "code",
      "source": [
        "c.ndim"
      ],
      "metadata": {
        "colab": {
          "base_uri": "https://localhost:8080/"
        },
        "id": "tqtCKDi5PqND",
        "outputId": "ec07c1ec-4006-45d9-bc7f-18cb034b1e84"
      },
      "execution_count": null,
      "outputs": [
        {
          "output_type": "execute_result",
          "data": {
            "text/plain": [
              "3"
            ]
          },
          "metadata": {},
          "execution_count": 38
        }
      ]
    },
    {
      "cell_type": "code",
      "source": [
        "b = np.array([[[1,2,],[3,4]],[[5,6],[7,8]]])\n",
        "print(b)"
      ],
      "metadata": {
        "colab": {
          "base_uri": "https://localhost:8080/"
        },
        "id": "0ta5BMe3PsHg",
        "outputId": "3f890fa8-b1f7-4cfb-f88a-d67afba7b3cf"
      },
      "execution_count": null,
      "outputs": [
        {
          "output_type": "stream",
          "name": "stdout",
          "text": [
            "[[[1 2]\n",
            "  [3 4]]\n",
            "\n",
            " [[5 6]\n",
            "  [7 8]]]\n"
          ]
        }
      ]
    },
    {
      "cell_type": "code",
      "source": [
        "b.ndim"
      ],
      "metadata": {
        "colab": {
          "base_uri": "https://localhost:8080/"
        },
        "id": "4fvH9rDjP0C8",
        "outputId": "0966504f-a7c7-425f-86dd-2a94046ed220"
      },
      "execution_count": null,
      "outputs": [
        {
          "output_type": "execute_result",
          "data": {
            "text/plain": [
              "3"
            ]
          },
          "metadata": {},
          "execution_count": 41
        }
      ]
    },
    {
      "cell_type": "code",
      "source": [
        "b.shape"
      ],
      "metadata": {
        "colab": {
          "base_uri": "https://localhost:8080/"
        },
        "id": "bLySV4bAP5H6",
        "outputId": "d091634b-e3ab-4fed-edd1-c28de57e094f"
      },
      "execution_count": null,
      "outputs": [
        {
          "output_type": "execute_result",
          "data": {
            "text/plain": [
              "(2, 2, 2)"
            ]
          },
          "metadata": {},
          "execution_count": 42
        }
      ]
    },
    {
      "cell_type": "code",
      "source": [
        "b[0,1,1]"
      ],
      "metadata": {
        "colab": {
          "base_uri": "https://localhost:8080/"
        },
        "id": "B9ScOClFQBFx",
        "outputId": "add91817-349d-44a1-9f67-900ecad0afad"
      },
      "execution_count": null,
      "outputs": [
        {
          "output_type": "execute_result",
          "data": {
            "text/plain": [
              "4"
            ]
          },
          "metadata": {},
          "execution_count": 43
        }
      ]
    },
    {
      "cell_type": "code",
      "source": [
        "b[1,1,1]"
      ],
      "metadata": {
        "colab": {
          "base_uri": "https://localhost:8080/"
        },
        "id": "T53oA7fIQt3v",
        "outputId": "3961e76e-7f8f-4c3e-e962-17b0eb3f909c"
      },
      "execution_count": null,
      "outputs": [
        {
          "output_type": "execute_result",
          "data": {
            "text/plain": [
              "8"
            ]
          },
          "metadata": {},
          "execution_count": 44
        }
      ]
    },
    {
      "cell_type": "code",
      "source": [
        "b[1,1,0]"
      ],
      "metadata": {
        "colab": {
          "base_uri": "https://localhost:8080/"
        },
        "id": "iC_x76UXQ8fo",
        "outputId": "0f324228-68f9-4068-b79e-2cb9136c27b4"
      },
      "execution_count": null,
      "outputs": [
        {
          "output_type": "execute_result",
          "data": {
            "text/plain": [
              "7"
            ]
          },
          "metadata": {},
          "execution_count": 45
        }
      ]
    },
    {
      "cell_type": "code",
      "source": [
        "b[0,1,0]"
      ],
      "metadata": {
        "colab": {
          "base_uri": "https://localhost:8080/"
        },
        "id": "I-90xjEuRK7y",
        "outputId": "e62d33e8-319d-423f-f32b-c841f8c97b57"
      },
      "execution_count": null,
      "outputs": [
        {
          "output_type": "execute_result",
          "data": {
            "text/plain": [
              "3"
            ]
          },
          "metadata": {},
          "execution_count": 46
        }
      ]
    },
    {
      "cell_type": "code",
      "source": [
        "b[1,0,1]"
      ],
      "metadata": {
        "colab": {
          "base_uri": "https://localhost:8080/"
        },
        "id": "lKFIryvJRrTG",
        "outputId": "e2e046d6-88aa-412a-8036-48239f3d7af8"
      },
      "execution_count": null,
      "outputs": [
        {
          "output_type": "execute_result",
          "data": {
            "text/plain": [
              "6"
            ]
          },
          "metadata": {},
          "execution_count": 48
        }
      ]
    },
    {
      "cell_type": "code",
      "source": [
        "tnsor = np.array([[[[1,2,3],[3,4,7]],[[5,6,9],[7,8,4]]],\n",
        "                [[[1,2,3],[3,4,7]],[[5,16,9],[7,8,4]]]])\n",
        "print(tnsor.ndim)"
      ],
      "metadata": {
        "colab": {
          "base_uri": "https://localhost:8080/"
        },
        "id": "3jnfBpD6R_aa",
        "outputId": "7a3a1638-b273-478d-dcf9-31359f81ebde"
      },
      "execution_count": null,
      "outputs": [
        {
          "output_type": "stream",
          "name": "stdout",
          "text": [
            "4\n"
          ]
        }
      ]
    },
    {
      "cell_type": "code",
      "source": [
        "tnsor.shape"
      ],
      "metadata": {
        "colab": {
          "base_uri": "https://localhost:8080/"
        },
        "id": "m-bi_ClGSLMd",
        "outputId": "8efeea72-090f-4717-ac2e-c163f9941dfa"
      },
      "execution_count": null,
      "outputs": [
        {
          "output_type": "execute_result",
          "data": {
            "text/plain": [
              "(2, 2, 2, 3)"
            ]
          },
          "metadata": {},
          "execution_count": 51
        }
      ]
    },
    {
      "cell_type": "code",
      "source": [
        "tnsor"
      ],
      "metadata": {
        "colab": {
          "base_uri": "https://localhost:8080/"
        },
        "id": "ArQOhYuiSUbM",
        "outputId": "e8c6481c-bf31-4068-c4fa-98c8a25e54c7"
      },
      "execution_count": null,
      "outputs": [
        {
          "output_type": "execute_result",
          "data": {
            "text/plain": [
              "array([[[[ 1,  2,  3],\n",
              "         [ 3,  4,  7]],\n",
              "\n",
              "        [[ 5,  6,  9],\n",
              "         [ 7,  8,  4]]],\n",
              "\n",
              "\n",
              "       [[[ 1,  2,  3],\n",
              "         [ 3,  4,  7]],\n",
              "\n",
              "        [[ 5, 16,  9],\n",
              "         [ 7,  8,  4]]]])"
            ]
          },
          "metadata": {},
          "execution_count": 52
        }
      ]
    },
    {
      "cell_type": "code",
      "source": [
        "tnsor[0,0,0,2]"
      ],
      "metadata": {
        "colab": {
          "base_uri": "https://localhost:8080/"
        },
        "id": "SDU0_0L1SdVr",
        "outputId": "1d1f1a7d-6451-4093-dc72-938775f2ca3a"
      },
      "execution_count": null,
      "outputs": [
        {
          "output_type": "execute_result",
          "data": {
            "text/plain": [
              "3"
            ]
          },
          "metadata": {},
          "execution_count": 53
        }
      ]
    },
    {
      "cell_type": "code",
      "source": [
        "y=np.array([[1,2,3],[4,5,6]])\n",
        "y"
      ],
      "metadata": {
        "colab": {
          "base_uri": "https://localhost:8080/"
        },
        "id": "C5vraaM8SoA2",
        "outputId": "bc3312db-2a51-4140-ba5d-e91ee0aa519b"
      },
      "execution_count": null,
      "outputs": [
        {
          "output_type": "execute_result",
          "data": {
            "text/plain": [
              "array([[1, 2, 3],\n",
              "       [4, 5, 6]])"
            ]
          },
          "metadata": {},
          "execution_count": 58
        }
      ]
    },
    {
      "cell_type": "code",
      "source": [
        "d=y[0,1]+y[1,1]\n",
        "d"
      ],
      "metadata": {
        "colab": {
          "base_uri": "https://localhost:8080/"
        },
        "id": "VrYe5LpVTG1l",
        "outputId": "e096a2b4-e8aa-46f8-be6a-1ad06c7af1ce"
      },
      "execution_count": null,
      "outputs": [
        {
          "output_type": "execute_result",
          "data": {
            "text/plain": [
              "7"
            ]
          },
          "metadata": {},
          "execution_count": 57
        }
      ]
    },
    {
      "cell_type": "code",
      "source": [
        "d=np.sum(y,axis=0)\n",
        "d"
      ],
      "metadata": {
        "colab": {
          "base_uri": "https://localhost:8080/"
        },
        "id": "BMNC_p1UTmKV",
        "outputId": "03c5f182-064e-4fe5-9249-f6fad3f61938"
      },
      "execution_count": null,
      "outputs": [
        {
          "output_type": "execute_result",
          "data": {
            "text/plain": [
              "array([5, 7, 9])"
            ]
          },
          "metadata": {},
          "execution_count": 62
        }
      ]
    },
    {
      "cell_type": "code",
      "source": [
        "d=np.sum(y,axis=1)\n",
        "d"
      ],
      "metadata": {
        "colab": {
          "base_uri": "https://localhost:8080/"
        },
        "id": "isD9dVb2UyIW",
        "outputId": "9968d223-4668-4c26-9653-86509ad5ae61"
      },
      "execution_count": null,
      "outputs": [
        {
          "output_type": "execute_result",
          "data": {
            "text/plain": [
              "array([ 6, 15])"
            ]
          },
          "metadata": {},
          "execution_count": 63
        }
      ]
    },
    {
      "cell_type": "code",
      "source": [
        "d=np.concatenate((y,y),axis=0)\n",
        "d"
      ],
      "metadata": {
        "colab": {
          "base_uri": "https://localhost:8080/"
        },
        "id": "rwCXEZcoU1RP",
        "outputId": "e4b4fa7a-faec-4166-e676-2bf25a5a4dca"
      },
      "execution_count": null,
      "outputs": [
        {
          "output_type": "execute_result",
          "data": {
            "text/plain": [
              "array([[1, 2, 3],\n",
              "       [4, 5, 6],\n",
              "       [1, 2, 3],\n",
              "       [4, 5, 6]])"
            ]
          },
          "metadata": {},
          "execution_count": 67
        }
      ]
    },
    {
      "cell_type": "code",
      "source": [
        "d=np.concatenate((y,y),axis=1)\n",
        "d"
      ],
      "metadata": {
        "colab": {
          "base_uri": "https://localhost:8080/"
        },
        "id": "ddL6Dha8VU-I",
        "outputId": "01b54a5f-04f4-46d5-ae80-a1cead327a87"
      },
      "execution_count": null,
      "outputs": [
        {
          "output_type": "execute_result",
          "data": {
            "text/plain": [
              "array([[1, 2, 3, 1, 2, 3],\n",
              "       [4, 5, 6, 4, 5, 6]])"
            ]
          },
          "metadata": {},
          "execution_count": 68
        }
      ]
    },
    {
      "cell_type": "code",
      "source": [
        "#Element wise multiplication\n",
        "import numpy as np\n",
        "a = np.array([15,10,20])\n",
        "b = np.array([1,2,5])\n",
        "c = a*b\n",
        "print(c)"
      ],
      "metadata": {
        "id": "VqRI-pg4Vre_",
        "colab": {
          "base_uri": "https://localhost:8080/"
        },
        "outputId": "6584c247-9fee-40c0-b0f9-bb8f6e9712f1"
      },
      "execution_count": null,
      "outputs": [
        {
          "output_type": "stream",
          "name": "stdout",
          "text": [
            "[ 15  20 100]\n"
          ]
        }
      ]
    },
    {
      "cell_type": "code",
      "source": [
        "#Dot Product\n",
        "a = np.array([15,10,20])\n",
        "b = np.array([1,2,5])\n",
        "c = a.dot(b)\n",
        "print(c)"
      ],
      "metadata": {
        "colab": {
          "base_uri": "https://localhost:8080/"
        },
        "id": "pklafK74JmtS",
        "outputId": "b1dbac25-e890-40f9-ab4f-b598d026cbb1"
      },
      "execution_count": null,
      "outputs": [
        {
          "output_type": "stream",
          "name": "stdout",
          "text": [
            "135\n"
          ]
        }
      ]
    },
    {
      "cell_type": "code",
      "source": [
        "#But Matrix multiplication/dot product is Not Commutative --> AB != BC\n",
        "b=np.array([[1,2,3],\n",
        "            [4,5,6],\n",
        "            [7,8,9]])\n",
        "\n",
        "a=np.array([[2,4,5],\n",
        "           [3,6,7],\n",
        "           [1,8,9]])\n",
        "x=np.array([[4,5,6],\n",
        "           [8,9,1],\n",
        "           [6,2,4]])\n",
        "\n",
        "c=a*b\n",
        "print(c)\n",
        "d=a.dot(b)\n",
        "print(d)"
      ],
      "metadata": {
        "colab": {
          "base_uri": "https://localhost:8080/"
        },
        "id": "q9FEoLnTKEmx",
        "outputId": "c89ca333-70bf-4a60-de03-15ac4c923de3"
      },
      "execution_count": null,
      "outputs": [
        {
          "output_type": "stream",
          "name": "stdout",
          "text": [
            "[[ 2  8 15]\n",
            " [12 30 42]\n",
            " [ 7 64 81]]\n",
            "[[ 53  64  75]\n",
            " [ 76  92 108]\n",
            " [ 96 114 132]]\n"
          ]
        }
      ]
    },
    {
      "cell_type": "code",
      "source": [
        "#Matrix multiplication is distributive --> A(B+C) = AB + AC and Associative --> A(BC) = (AB)C\n",
        "c=x+a\n",
        "print(c)\n",
        "d=b*c\n",
        "print(d)\n",
        "print(a*b)\n",
        "print(b*x)\n",
        "print(a*b+b*x)"
      ],
      "metadata": {
        "colab": {
          "base_uri": "https://localhost:8080/"
        },
        "id": "V9DZnHUYNQiL",
        "outputId": "160072a0-dd1f-41c0-c089-7e2f02767646"
      },
      "execution_count": null,
      "outputs": [
        {
          "output_type": "stream",
          "name": "stdout",
          "text": [
            "[[ 6  9 11]\n",
            " [11 15  8]\n",
            " [ 7 10 13]]\n",
            "[[  6  18  33]\n",
            " [ 44  75  48]\n",
            " [ 49  80 117]]\n",
            "[[ 2  8 15]\n",
            " [12 30 42]\n",
            " [ 7 64 81]]\n",
            "[[ 4 10 18]\n",
            " [32 45  6]\n",
            " [42 16 36]]\n",
            "[[  6  18  33]\n",
            " [ 44  75  48]\n",
            " [ 49  80 117]]\n"
          ]
        }
      ]
    },
    {
      "cell_type": "code",
      "source": [
        "#Dot product of two vectors commutative aTb=bTa\n",
        "aT=a.T\n",
        "bT=b.T\n",
        "print(aT*b)\n",
        "print(bT*a)"
      ],
      "metadata": {
        "colab": {
          "base_uri": "https://localhost:8080/"
        },
        "id": "q-KMkS5GL_IV",
        "outputId": "d473da1d-5a1d-4377-b6b4-e54fcfd647ae"
      },
      "execution_count": null,
      "outputs": [
        {
          "output_type": "stream",
          "name": "stdout",
          "text": [
            "[[ 2  6  3]\n",
            " [16 30 48]\n",
            " [35 56 81]]\n",
            "[[ 2 16 35]\n",
            " [ 6 30 56]\n",
            " [ 3 48 81]]\n"
          ]
        }
      ]
    },
    {
      "cell_type": "code",
      "source": [
        "# Transpose (ab)T=aTbT\n",
        "y=a*b\n",
        "print(y.T)\n",
        "print(aT*bT)"
      ],
      "metadata": {
        "colab": {
          "base_uri": "https://localhost:8080/"
        },
        "id": "MQtAsPovPKR7",
        "outputId": "e89a296a-01e1-4bd7-a852-493e92457d9c"
      },
      "execution_count": null,
      "outputs": [
        {
          "output_type": "stream",
          "name": "stdout",
          "text": [
            "[[ 2 12  7]\n",
            " [ 8 30 64]\n",
            " [15 42 81]]\n",
            "[[ 2 12  7]\n",
            " [ 8 30 64]\n",
            " [15 42 81]]\n"
          ]
        }
      ]
    },
    {
      "cell_type": "code",
      "source": [
        "#Below code decomposes a matrix into its eigen vectors and values\n",
        "import numpy as np\n",
        "A = np.array([[2,3],[3,1]])\n",
        "print(\"The matrix A is\")\n",
        "print(A)\n",
        "\n",
        "egn_val, en_vctr = np.linalg.eig([[2,3],[3,1]])\n",
        "print(\"The eigen values of the matrix A are\",egn_val)\n",
        "print(\"The eigen vectors of the matrix A are\")\n",
        "print(en_vctr )"
      ],
      "metadata": {
        "colab": {
          "base_uri": "https://localhost:8080/"
        },
        "id": "AiPgCZhJRL0e",
        "outputId": "d82fb4f9-71d2-4459-93c7-acb0a70008d0"
      },
      "execution_count": null,
      "outputs": [
        {
          "output_type": "stream",
          "name": "stdout",
          "text": [
            "The matrix A is\n",
            "[[2 3]\n",
            " [3 1]]\n",
            "The eigen values of the matrix A are [ 4.54138127 -1.54138127]\n",
            "The eigen vectors of the matrix A are\n",
            "[[ 0.76301998 -0.6463749 ]\n",
            " [ 0.6463749   0.76301998]]\n"
          ]
        }
      ]
    },
    {
      "cell_type": "code",
      "source": [
        "#Confirm eigen decompostion equation\n",
        "import numpy as np\n",
        "from numpy.linalg import eig\n",
        "A = np.array([[2,3],[3,1]])\n",
        "print(A)\n",
        "egn_val, en_vctr  = eig(A)\n",
        "Left_Av0 = A.dot(en_vctr [:,0])  ## First eigen vector  vectors[:,0]\n",
        "print(Left_Av0)\n",
        "\n",
        "\n",
        "Right_lamdv0 = en_vctr [:,0].dot(egn_val[0])\n",
        "print(\"The values of AV = Left_Av0 is \", Left_Av0 ,\"and values of lambda * V = Right_lamdv0 =  \",Right_lamdv0,\"are same\" )"
      ],
      "metadata": {
        "colab": {
          "base_uri": "https://localhost:8080/"
        },
        "id": "ObJykpu9RuWb",
        "outputId": "a52bf21f-4d4c-4f27-d7be-65ac04bf9490"
      },
      "execution_count": null,
      "outputs": [
        {
          "output_type": "stream",
          "name": "stdout",
          "text": [
            "[[2 3]\n",
            " [3 1]]\n",
            "[3.46516465 2.93543484]\n",
            "The values of AV = Left_Av0 is  [3.46516465 2.93543484] and values of lambda * V = Right_lamdv0 =   [3.46516465 2.93543484] are same\n"
          ]
        }
      ]
    },
    {
      "cell_type": "code",
      "source": [
        "#Original Matrix Reconstruction using eigen values and vectors\n",
        "from numpy import diag\n",
        "from numpy.linalg import inv\n",
        "from numpy import array\n",
        "from numpy.linalg import eig\n",
        "# define matrix\n",
        "A = np.array([[2,3],[3,1]])\n",
        "# factorize the matrix into eigen vectors and values\n",
        "egn_val, en_vctr  = eig(A)\n",
        "# create matrix from eigenvectors\n",
        "V = en_vctr\n",
        "# create inverse of eigenvectors matrix\n",
        "V_I = inv(en_vctr)\n",
        "# create diagonal matrix from eigenvalues\n",
        "Lambda = diag(egn_val)\n",
        "# reconstruct the original matrix from eigenvalues and eigenvectors\n",
        "Reconstrc_Mtrx = V.dot(Lambda).dot(V_I)\n",
        "print(\"The original matrix A is\")\n",
        "print(A)\n",
        "print(\"The reconstructed matrix is\")\n",
        "print(Reconstrc_Mtrx)"
      ],
      "metadata": {
        "colab": {
          "base_uri": "https://localhost:8080/"
        },
        "id": "jappFmn9R1fh",
        "outputId": "aca0cdc2-fddb-400a-f3e5-08a7957364c6"
      },
      "execution_count": null,
      "outputs": [
        {
          "output_type": "stream",
          "name": "stdout",
          "text": [
            "The original matrix A is\n",
            "[[2 3]\n",
            " [3 1]]\n",
            "The reconstructed matrix is\n",
            "[[2. 3.]\n",
            " [3. 1.]]\n"
          ]
        }
      ]
    },
    {
      "cell_type": "code",
      "source": [
        "# mean of the column by specifying axis = 0 in the mean() function\n",
        "# mean of the row elements of a matrix by specifying axis = 1 in the mean() function\n",
        "import numpy as np\n",
        "M = np.array([[8,1,3,6],[3,1,3,-2]])\n",
        "rw_mn = np.mean(M,axis= 1)\n",
        "print(\"The row wise mean of each subarray  is\", rw_mn)\n",
        "cl_mn = np.mean(M, axis = 0)\n",
        "print(\"The column mean is \", cl_mn)"
      ],
      "metadata": {
        "colab": {
          "base_uri": "https://localhost:8080/"
        },
        "id": "l4HO4FhiTvYq",
        "outputId": "387d7952-3b5b-4bdc-d6ad-b5d7244e8724"
      },
      "execution_count": null,
      "outputs": [
        {
          "output_type": "stream",
          "name": "stdout",
          "text": [
            "The row wise mean of each subarray  is [4.5  1.25]\n",
            "The column mean is  [5.5 1.  3.  2. ]\n"
          ]
        }
      ]
    }
  ]
}